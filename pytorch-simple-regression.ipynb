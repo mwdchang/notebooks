{
 "cells": [
  {
   "cell_type": "code",
   "execution_count": 1,
   "id": "e7e2c93b",
   "metadata": {},
   "outputs": [],
   "source": [
    "import numpy as np\n",
    "import torch\n",
    "import random\n",
    "import torch.nn as nn\n",
    "from torch.utils.data import Dataset, DataLoader\n",
    "from sklearn.model_selection import train_test_split"
   ]
  },
  {
   "cell_type": "markdown",
   "id": "611bb97f",
   "metadata": {},
   "source": [
    "### Pytorch regression example\n",
    "Just simple regression example using pytorch, mostly to shows how to use Dataset and Dataloader\n",
    "\n",
    "1. Create samples\n",
    "2. Dataset and splitting\n",
    "3. Dataloader and NN-model\n",
    "4. Train\n",
    "5. Test"
   ]
  },
  {
   "cell_type": "code",
   "execution_count": 3,
   "id": "69f38790",
   "metadata": {},
   "outputs": [],
   "source": [
    "# Create samples\n",
    "# Just adding two numbers together\n",
    "\n",
    "X = []\n",
    "Y = []\n",
    "for _ in range(5000):\n",
    "    x = [random.randint(0, 20), random.randint(0, 20)]\n",
    "    y = [x[0] + x[1]]\n",
    "    X.append(x)\n",
    "    Y.append(y)\n",
    "\n",
    "X = np.array(X)\n",
    "Y = np.array(Y)"
   ]
  },
  {
   "cell_type": "code",
   "execution_count": 5,
   "id": "bffd9bb8",
   "metadata": {},
   "outputs": [],
   "source": [
    "# Dataset and splitting\n",
    "X_train, X_test, Y_train, Y_test = train_test_split(X, Y, test_size=.33, random_state=26)\n",
    "\n",
    "class Data(Dataset):\n",
    "    def __init__(self, X, y):\n",
    "        self.X = torch.from_numpy(X.astype(np.float32))\n",
    "        self.y = torch.from_numpy(y.astype(np.float32))\n",
    "        self.len = self.X.shape[0]\n",
    "\n",
    "    def __getitem__(self, index):\n",
    "        return self.X[index], self.y[index]\n",
    "\n",
    "    def __len__(self):\n",
    "        return self.len"
   ]
  },
  {
   "cell_type": "code",
   "execution_count": 6,
   "id": "c8dff999",
   "metadata": {},
   "outputs": [],
   "source": [
    "# Dataloader and NN-model\n",
    "\n",
    "# Instantiate training and test data\n",
    "batch_size = 64\n",
    "train_data = Data(X_train, Y_train)\n",
    "train_dataloader = DataLoader(dataset=train_data, batch_size=batch_size, shuffle=True)\n",
    "\n",
    "test_data = Data(X_test, Y_test)\n",
    "test_dataloader = DataLoader(dataset=test_data, batch_size=batch_size, shuffle=True)\n",
    "\n",
    "\n",
    "# Regression type neural network\n",
    "class NeuralNetwork(nn.Module):\n",
    "    def __init__(self, input_dim, hidden_dim, output_dim):\n",
    "        super(NeuralNetwork, self).__init__()\n",
    "        self.layer_1 = nn.Linear(input_dim, hidden_dim)\n",
    "        nn.init.kaiming_uniform_(self.layer_1.weight, nonlinearity=\"relu\")\n",
    "        self.layer_2 = nn.Linear(hidden_dim, output_dim)\n",
    "\n",
    "    def forward(self, x):\n",
    "        x = torch.nn.functional.relu(self.layer_1(x))\n",
    "        x = self.layer_2(x)\n",
    "        # x = torch.nn.functional.sigmoid(self.layer_2(x))\n",
    "        return x"
   ]
  },
  {
   "cell_type": "code",
   "execution_count": 8,
   "id": "10a9fb13",
   "metadata": {},
   "outputs": [
    {
     "name": "stdout",
     "output_type": "stream",
     "text": [
      "2.1009278297424316\n",
      "0.003412672085687518\n",
      "0.00037201523082330823\n",
      "0.00021475469111464918\n",
      "6.119583122199401e-05\n",
      "2.3403636078001e-06\n",
      "Training Complete\n"
     ]
    }
   ],
   "source": [
    "model = NeuralNetwork(2, 5, 1)\n",
    "learning_rate = 0.01\n",
    "loss_fn = nn.MSELoss()\n",
    "optimizer = torch.optim.Adam(model.parameters(), lr=learning_rate)\n",
    "\n",
    "num_epochs = 30\n",
    "loss_values = []\n",
    "loss = 0\n",
    "\n",
    "for epoch in range(num_epochs):\n",
    "    for X, y in train_dataloader:\n",
    "        # zero the parameter gradients\n",
    "        optimizer.zero_grad()\n",
    "\n",
    "        # forward + backward + optimize\n",
    "        pred = model(X)\n",
    "\n",
    "        # loss = loss_fn(pred.unsqueeze(-1), y.unsqueeze(-1))\n",
    "        loss = loss_fn(pred, y)\n",
    "\n",
    "        loss_values.append(loss.item())\n",
    "        loss.backward()\n",
    "        optimizer.step()\n",
    "    if epoch % 5 == 0:\n",
    "        print(loss.item())\n",
    "        \n",
    "print(\"Training Complete\")"
   ]
  },
  {
   "cell_type": "code",
   "execution_count": 14,
   "id": "d6c5d378",
   "metadata": {},
   "outputs": [
    {
     "name": "stdout",
     "output_type": "stream",
     "text": [
      "Addding 4.0 and 33.0 \t= 37.005218505859375\n",
      "Addding 22.0 and 41.0 \t= 63.0075569152832\n",
      "Addding 47.0 and 40.0 \t= 87.00785827636719\n",
      "Addding 9.0 and 44.0 \t= 53.00800323486328\n",
      "Addding 26.0 and 39.0 \t= 65.00715637207031\n",
      "Addding 31.0 and 7.0 \t= 37.651588439941406\n",
      "Addding 20.0 and 50.0 \t= 70.00971984863281\n",
      "Addding 25.0 and 27.0 \t= 52.00420379638672\n",
      "Addding 30.0 and 20.0 \t= 50.00260925292969\n",
      "Addding 50.0 and 1.0 \t= 49.27699279785156\n"
     ]
    }
   ],
   "source": [
    "# Run through some tests\n",
    "for _ in range(10):\n",
    "    i1 = float(random.randint(0, 50))\n",
    "    i2 = float(random.randint(0, 50))\n",
    "    t = torch.tensor([i1, i2])\n",
    "    predict = model(t)\n",
    "    print(f\"Addding {i1} and {i2} \\t= {predict.item()}\")"
   ]
  },
  {
   "cell_type": "code",
   "execution_count": null,
   "id": "7ed28bd1",
   "metadata": {},
   "outputs": [],
   "source": []
  }
 ],
 "metadata": {
  "kernelspec": {
   "display_name": "Python 3 (ipykernel)",
   "language": "python",
   "name": "python3"
  },
  "language_info": {
   "codemirror_mode": {
    "name": "ipython",
    "version": 3
   },
   "file_extension": ".py",
   "mimetype": "text/x-python",
   "name": "python",
   "nbconvert_exporter": "python",
   "pygments_lexer": "ipython3",
   "version": "3.9.13"
  }
 },
 "nbformat": 4,
 "nbformat_minor": 5
}
